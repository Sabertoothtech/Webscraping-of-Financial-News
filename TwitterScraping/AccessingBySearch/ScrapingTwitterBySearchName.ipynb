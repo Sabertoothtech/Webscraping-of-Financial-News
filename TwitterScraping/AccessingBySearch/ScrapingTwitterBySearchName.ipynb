{
 "cells": [
  {
   "cell_type": "markdown",
   "metadata": {},
   "source": [
    "#### get_all_tweets will get all the tweets related to the parameter you passed typed in there while calling the method.\n",
    "\n",
    "for example in our main we called method by passing \"BLOOMBERG QUINT\""
   ]
  },
  {
   "cell_type": "code",
   "execution_count": null,
   "metadata": {},
   "outputs": [],
   "source": [
    "import tweepy\n",
    "import csv\n",
    "\n",
    "consumer_key = \"WG6WMvY5QnoKgb52MG9MZFAmt\"\n",
    "consumer_secret = \"2ZtKnXu1LjshjwNo6sgUV02vHQfr1wchosNRj68k0ARd1vrz7U\"\n",
    "access_key = \"1361391944-W2UVxbnbAt16XHit7F3XBMKPG9wuvGQZio9jQyV\"\n",
    "access_secret = \"SzuZ2XhHEW2YQJGrQfbVtNslZyYr5m49hm5l776GXoXb3\"\n",
    "\n",
    "\n",
    "def get_all_tweets(screen_name):\n",
    "\tauth = tweepy.OAuthHandler(consumer_key, consumer_secret)\n",
    "\tauth.set_access_token(access_key, access_secret)\n",
    "\tapi = tweepy.API(auth)\n",
    "\t\n",
    "\talltweets = []\t\n",
    "\t\n",
    "\tnew_tweets = api.user_timeline(screen_name = screen_name,count=200)\n",
    "\t\n",
    "\talltweets.extend(new_tweets)\n",
    "\t\n",
    "\toldest = alltweets[-1].id - 1\n",
    "\t\n",
    "\twhile len(new_tweets) > 0:\n",
    "\t\tprint( \"getting tweets before\", oldest)\n",
    "\t\t\n",
    "\t\tnew_tweets = api.user_timeline(screen_name = screen_name,count=200,max_id=oldest)\n",
    "\t\t\n",
    "\t\talltweets.extend(new_tweets)\n",
    "\t\t\n",
    "\t\toldest = alltweets[-1].id - 1\n",
    "\t\t\n",
    "\t\tprint (len(alltweets),\" downloaded\")\n",
    "\t\n",
    "\touttweets = [[tweet.id_str, tweet.retweet_count, tweet.favorite_count, tweet.created_at, tweet.text.encode(\"utf-8\")] for tweet in alltweets]\n",
    "\t\n",
    "\twith open('%s_tweets.csv' % screen_name, 'w',newline='') as f:\n",
    "\t\twriter = csv.writer(f)\n",
    "\t\twriter.writerow([\"id\",\"number_of_retweets\",\"number_of_favorites\",\"created_at\",\"text\"])\n",
    "\t\twriter.writerows(outtweets)\n",
    "\t\n",
    "\tpass\n",
    "\n",
    "\n",
    "if __name__ == '__main__':\n",
    "\tget_all_tweets(\"BloombergQuint\")"
   ]
  }
 ],
 "metadata": {
  "kernelspec": {
   "display_name": "Python 3",
   "language": "python",
   "name": "python3"
  },
  "language_info": {
   "codemirror_mode": {
    "name": "ipython",
    "version": 3
   },
   "file_extension": ".py",
   "mimetype": "text/x-python",
   "name": "python",
   "nbconvert_exporter": "python",
   "pygments_lexer": "ipython3",
   "version": "3.6.4"
  }
 },
 "nbformat": 4,
 "nbformat_minor": 2
}
